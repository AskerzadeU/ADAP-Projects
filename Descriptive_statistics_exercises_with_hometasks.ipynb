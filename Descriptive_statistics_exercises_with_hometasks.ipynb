{
 "cells": [
  {
   "cell_type": "markdown",
   "id": "7606c4c9",
   "metadata": {},
   "source": [
    "# Descriptive Statistics Exercises and Solutions\n",
    "This notebook includes basic exercises related to descriptive statistics, including mean, median, mode, variance, and standard deviation."
   ]
  },
  {
   "cell_type": "markdown",
   "id": "e595fff0",
   "metadata": {},
   "source": [
    "## Exercise 1: Calculate Measures of Central Tendency\n",
    "**Task:** Given the following data, calculate the mean, median, and mode:\n",
    "`data = [12, 15, 12, 18, 19, 12, 16, 14, 18, 19]`"
   ]
  },
  {
   "cell_type": "code",
   "execution_count": 3,
   "id": "0f5fc95a",
   "metadata": {},
   "outputs": [
    {
     "data": {
      "text/plain": [
       "(15.5, 15.5, 12)"
      ]
     },
     "execution_count": 3,
     "metadata": {},
     "output_type": "execute_result"
    }
   ],
   "source": [
    "import statistics as stats\n",
    "import numpy as np\n",
    "import pandas as pd\n",
    "\n",
    "data = [12, 15, 12, 18, 19, 12, 16, 14, 18, 19]\n",
    "mean = np.mean(data)\n",
    "median = np.median(data)\n",
    "mode = stats.mode(data)\n",
    "mean, median, mode"
   ]
  },
  {
   "cell_type": "markdown",
   "id": "fc1c54ca",
   "metadata": {},
   "source": [
    "## Exercise 2: Calculate Measures of Dispersion\n",
    "**Task:** Using the same data, calculate the variance and standard deviation."
   ]
  },
  {
   "cell_type": "code",
   "execution_count": 4,
   "id": "26c18595",
   "metadata": {},
   "outputs": [
    {
     "data": {
      "text/plain": [
       "(8.5, 2.9154759474226504)"
      ]
     },
     "execution_count": 4,
     "metadata": {},
     "output_type": "execute_result"
    }
   ],
   "source": [
    "variance = np.var(data, ddof=1)  # Sample variance\n",
    "std_dev = np.std(data, ddof=1)  # Sample standard deviation\n",
    "variance, std_dev"
   ]
  },
  {
   "cell_type": "markdown",
   "id": "6a7a86fb",
   "metadata": {},
   "source": [
    "## Exercise 3: Five Number Summary\n",
    "**Task:** Compute the minimum, Q1, median (Q2), Q3, and maximum."
   ]
  },
  {
   "cell_type": "code",
   "execution_count": 5,
   "id": "cfa889dc",
   "metadata": {},
   "outputs": [
    {
     "data": {
      "text/plain": [
       "(12, 12.5, 15.5, 18.0, 19)"
      ]
     },
     "execution_count": 5,
     "metadata": {},
     "output_type": "execute_result"
    }
   ],
   "source": [
    "min_val = np.min(data)\n",
    "q1 = np.percentile(data, 25)\n",
    "q2 = np.percentile(data, 50)\n",
    "q3 = np.percentile(data, 75)\n",
    "max_val = np.max(data)\n",
    "min_val, q1, q2, q3, max_val"
   ]
  },
  {
   "cell_type": "markdown",
   "id": "66d075cb",
   "metadata": {},
   "source": [
    "## Exercise 4: Visualizing the Data\n",
    "**Task:** Create a boxplot to visualize the distribution of the data."
   ]
  },
  {
   "cell_type": "code",
   "execution_count": 6,
   "id": "f0c100c9",
   "metadata": {},
   "outputs": [
    {
     "data": {
      "image/png": "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