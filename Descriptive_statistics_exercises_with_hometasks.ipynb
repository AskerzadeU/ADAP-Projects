{
 "cells": [
  {
   "cell_type": "markdown",
   "id": "7606c4c9",
   "metadata": {},
   "source": [
    "# Descriptive Statistics Exercises and Solutions\n",
    "This notebook includes basic exercises related to descriptive statistics, including mean, median, mode, variance, and standard deviation."
   ]
  },
  {
   "cell_type": "markdown",
   "id": "e595fff0",
   "metadata": {},
   "source": [
    "## Exercise 1: Calculate Measures of Central Tendency\n",
    "**Task:** Given the following data, calculate the mean, median, and mode:\n",
    "`data = [12, 15, 12, 18, 19, 12, 16, 14, 18, 19]`"
   ]
  },
  {
   "cell_type": "code",
   "execution_count": null,
   "id": "0f5fc95a",
   "metadata": {},
   "outputs": [],
   "source": [
    "import statistics as stats\n",
    "import numpy as np\n",
    "import pandas as pd\n",
    "\n",
    "data = [12, 15, 12, 18, 19, 12, 16, 14, 18, 19]\n",
    "mean = np.mean(data)\n",
    "median = np.median(data)\n",
    "mode = stats.mode(data)\n",
    "mean, median, mode"
   ]
  },
  {
   "cell_type": "markdown",
   "id": "fc1c54ca",
   "metadata": {},
   "source": [
    "## Exercise 2: Calculate Measures of Dispersion\n",
    "**Task:** Using the same data, calculate the variance and standard deviation."
   ]
  },
  {
   "cell_type": "code",
   "execution_count": null,
   "id": "26c18595",
   "metadata": {},
   "outputs": [],
   "source": [
    "variance = np.var(data, ddof=1)  # Sample variance\n",
    "std_dev = np.std(data, ddof=1)  # Sample standard deviation\n",
    "variance, std_dev"
   ]
  },
  {
   "cell_type": "markdown",
   "id": "6a7a86fb",
   "metadata": {},
   "source": [
    "## Exercise 3: Five Number Summary\n",
    "**Task:** Compute the minimum, Q1, median (Q2), Q3, and maximum."
   ]
  },
  {
   "cell_type": "code",
   "execution_count": null,
   "id": "cfa889dc",
   "metadata": {},
   "outputs": [],
   "source": [
    "min_val = np.min(data)\n",
    "q1 = np.percentile(data, 25)\n",
    "q2 = np.percentile(data, 50)\n",
    "q3 = np.percentile(data, 75)\n",
    "max_val = np.max(data)\n",
    "min_val, q1, q2, q3, max_val"
   ]
  },
  {
   "cell_type": "markdown",
   "id": "66d075cb",
   "metadata": {},
   "source": [
    "## Exercise 4: Visualizing the Data\n",
    "**Task:** Create a boxplot to visualize the distribution of the data."
   ]
  },
  {
   "cell_type": "code",
   "execution_count": null,
   "id": "f0c100c9",
   "metadata": {},
   "outputs": [],
   "source": [
    "import matplotlib.pyplot as plt\n",
    "plt.boxplot(data, vert=False)\n",
    "plt.title('Boxplot of Data')\n",
    "plt.xlabel('Values')\n",
    "plt.grid(True)\n",
    "plt.show()"
   ]
  },
  {
   "cell_type": "markdown",
   "id": "206093ce",
   "metadata": {},
   "source": [
    "## 🏠 Homework Tasks for Descriptive Statistics\n",
    "Solve the following tasks independently. Try to interpret your results as well.\n"
   ]
  },
  {
   "cell_type": "markdown",
   "id": "446577d5",
   "metadata": {},
   "source": [
    "### 📌 Homework: Measures of Central Tendency\n",
    "#### Task 1:\n",
    "Given the dataset: `[21, 23, 19, 25, 30, 21, 20, 19, 25, 23]`, calculate the **mean**, **median**, and **mode**.\n",
    "\n",
    "#### Task 2:\n",
    "You surveyed 15 households and collected the following data for the number of children: `[2, 3, 1, 4, 2, 3, 3, 2, 1, 4, 5, 3, 2, 1, 4]`. Find the **mean**, **median**, and **mode**.\n",
    "\n",
    "#### Task 3:\n",
    "In a small company, the monthly salaries (in hundreds) are: `[35, 40, 45, 50, 40, 35, 100, 45, 40, 35]`. Compute the **mean**, **median**, and **mode** and comment on any skewness."
   ]
  },
  {
   "cell_type": "code",
   "execution_count": null,
   "id": "ac20e577",
   "metadata": {},
   "outputs": [],
   "source": [
    "#Task1\n",
    "\n",
    "x1=[21, 23, 19, 25, 30, 21, 20, 19, 25, 23]\n",
    "\n",
    "data1=pd.Series(x1)\n",
    "\n",
    "print(f\"Mean:{data1.mean()}   Median:{data1.median()}   Mode:{data1.mode().tolist()}\")\n",
    "\n",
    "plt.boxplot(data1,vert=False)\n",
    "plt.title('Boxplot of Data')\n",
    "plt.xlabel('Values')\n",
    "plt.grid(True)\n",
    "plt.show()\n",
    "\n",
    "\n",
    "#Mean>Median .It means data is right skewed. \n",
    "#And we have 4 modes(19,21,23,25)"
   ]
  },
  {
   "cell_type": "code",
   "execution_count": null,
   "id": "dc2ca1a1",
   "metadata": {},
   "outputs": [],
   "source": [
    "#Task2\n",
    "\n",
    "x2=[2, 3, 1, 4, 2, 3, 3, 2, 1, 4, 5, 3, 2, 1, 4]\n",
    "data2=pd.Series(x2)\n",
    "\n",
    "\n",
    "print(f\"Mean:{round(data2.mean(),2)}      Median:{data2.median()}     Mode:{data2.mode().tolist()}\")\n",
    "\n",
    "plt.boxplot(data2,vert=False)\n",
    "plt.title('Boxplot of Data')\n",
    "plt.xlabel('Values')\n",
    "plt.grid(True)\n",
    "plt.show()\n",
    "\n",
    "\n",
    "\n",
    "#Here is Median>Mean. It means data is left skewed.\n",
    "#We have 2 modes (2,3)"
   ]
  },
  {
   "cell_type": "code",
   "execution_count": null,
   "id": "19d050c7",
   "metadata": {},
   "outputs": [],
   "source": [
    "#Task3\n",
    "\n",
    "x3=[35, 40, 45, 50, 40, 35, 100, 45, 40, 35]\n",
    "data3=pd.Series(x3)\n",
    "\n",
    "print(f\"Mean: {data3.mean()}    Median: {data3.median()}    Mode: {data3.mode().tolist()}\")\n",
    "\n",
    "plt.boxplot(data3,vert=False)\n",
    "plt.title('Boxplot of Data')\n",
    "plt.xlabel('Values')\n",
    "plt.grid(True)\n",
    "plt.show()\n",
    "\n",
    "#Mean>Median .It means data is right skewed\n",
    "#We have 2 modes and 1 outlier (100)"
   ]
  },
  {
   "cell_type": "markdown",
   "id": "1c768912",
   "metadata": {},
   "source": [
    "### 📌 Homework: Measures of Dispersion\n",
    "#### Task 1:\n",
    "Use the dataset: `[5, 10, 10, 10, 15, 20, 25, 25, 30]` to calculate **variance** and **standard deviation**.\n",
    "\n",
    "#### Task 2:\n",
    "Income levels (in AZN) for 8 families are: `[500, 700, 800, 600, 1200, 1000, 950, 1100]`. Calculate **variance** and **standard deviation**.\n",
    "\n",
    "#### Task 3:\n",
    "Evaluate the spread of scores in a classroom: `[60, 65, 70, 75, 80, 85, 90, 95, 100]`. What are the **sample variance** and **standard deviation**?"
   ]
  },
  {
   "cell_type": "code",
   "execution_count": null,
   "id": "982e1160",
   "metadata": {},
   "outputs": [],
   "source": [
    "#Task1\n",
    "x4=[5, 10, 10, 10, 15, 20, 25, 25, 30]\n",
    "data4=pd.Series(x4)\n",
    "data4.std()\n",
    "data4.var()\n",
    "\n",
    "print(f\"  Standard deviation: {round(data4.std(),2)}        Variance: {round(data4.var(),2)}\")"
   ]
  },
  {
   "cell_type": "code",
   "execution_count": null,
   "id": "831eceb1",
   "metadata": {},
   "outputs": [],
   "source": [
    "#Task2\n",
    "x5=[500, 700, 800, 600, 1200, 1000, 950, 1100]\n",
    "data5=pd.Series(x5)\n",
    "\n",
    "print(f\"   Standard deviation:  {round(data5.std(),2)}       Variance:   {round(data5.var(),2)}\")"
   ]
  },
  {
   "cell_type": "code",
   "execution_count": null,
   "id": "36ffeda3",
   "metadata": {},
   "outputs": [],
   "source": [
    "#Task3\n",
    "x6=[60, 65, 70, 75, 80, 85, 90, 95, 100]\n",
    "data6=pd.Series(x6)\n",
    "print(f\"   Standard deviation:  {round(data6.std(),2)}       Variance:   {round(data6.var(),2)}\")"
   ]
  },
  {
   "cell_type": "markdown",
   "id": "9b505403",
   "metadata": {},
   "source": [
    "### 📌 Homework: Five Number Summary\n",
    "#### Task 1:\n",
    "Compute the **five-number summary** for `[100, 102, 105, 107, 110, 113, 115, 117, 120]`.\n",
    "\n",
    "#### Task 2:\n",
    "Given household expenses in a community: `[230, 250, 270, 290, 310, 330, 350, 370, 390, 410]`, calculate the **minimum**, **Q1**, **Q2**, **Q3**, and **maximum**.\n",
    "\n",
    "#### Task 3:\n",
    "Analyze the five-number summary for the number of working hours per week: `[35, 36, 38, 40, 42, 44, 46, 48, 50, 55]`."
   ]
  },
  {
   "cell_type": "code",
   "execution_count": null,
   "id": "ef278cb1",
   "metadata": {},
   "outputs": [],
   "source": [
    "#Task 1\n",
    "data1=[100, 102, 105, 107, 110, 113, 115, 117, 120]\n",
    "min_val = np.min(data1)\n",
    "q1 = np.percentile(data1, 25)\n",
    "q2 = np.percentile(data1, 50)\n",
    "q3 = np.percentile(data1, 75)\n",
    "max_val = np.max(data1)\n",
    "min_val, q1, q2, q3, max_val"
   ]
  },
  {
   "cell_type": "code",
   "execution_count": null,
   "id": "c5690b41",
   "metadata": {},
   "outputs": [],
   "source": [
    "#Task 2\n",
    "data2=[230, 250, 270, 290, 310, 330, 350, 370, 390, 410]\n",
    "\n",
    "min_val = np.min(data2)\n",
    "q1 = np.percentile(data2, 25)\n",
    "q2 = np.percentile(data2, 50)\n",
    "q3 = np.percentile(data2, 75)\n",
    "max_val = np.max(data2)\n",
    "\n",
    "min_val, q1, q2, q3, max_val\n",
    "\n"
   ]
  },
  {
   "cell_type": "code",
   "execution_count": null,
   "id": "eba86153",
   "metadata": {},
   "outputs": [],
   "source": [
    "#Task 3\n",
    "data3=[35, 36, 38, 40, 42, 44, 46, 48, 50, 55]\n",
    "\n",
    "min_val = np.min(data3)\n",
    "q1 = np.percentile(data3, 25)\n",
    "q2 = np.percentile(data3, 50)\n",
    "q3 = np.percentile(data3, 75)\n",
    "max_val = np.max(data3)\n",
    "\n",
    "min_val, q1, q2, q3, max_val\n"
   ]
  }
 ],
 "metadata": {
  "kernelspec": {
   "display_name": "Python 3 (ipykernel)",
   "language": "python",
   "name": "python3"
  },
  "language_info": {
   "codemirror_mode": {
    "name": "ipython",
    "version": 3
   },
   "file_extension": ".py",
   "mimetype": "text/x-python",
   "name": "python",
   "nbconvert_exporter": "python",
   "pygments_lexer": "ipython3",
   "version": "3.11.4"
  },
  "varInspector": {
   "cols": {
    "lenName": 16,
    "lenType": 16,
    "lenVar": 40
   },
   "kernels_config": {
    "python": {
     "delete_cmd_postfix": "",
     "delete_cmd_prefix": "del ",
     "library": "var_list.py",
     "varRefreshCmd": "print(var_dic_list())"
    },
    "r": {
     "delete_cmd_postfix": ") ",
     "delete_cmd_prefix": "rm(",
     "library": "var_list.r",
     "varRefreshCmd": "cat(var_dic_list()) "
    }
   },
   "types_to_exclude": [
    "module",
    "function",
    "builtin_function_or_method",
    "instance",
    "_Feature"
   ],
   "window_display": false
  }
 },
 "nbformat": 4,
 "nbformat_minor": 5
}
