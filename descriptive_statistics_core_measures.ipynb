{
 "cells": [
  {
   "cell_type": "markdown",
   "id": "b28411ad",
   "metadata": {
    "id": "b28411ad"
   },
   "source": [
    "# 📘 Descriptive Statistics: Key Measures and Exercises\n",
    "This notebook covers core descriptive statistics concepts with examples and hometasks. Topics include:\n",
    "- Mean\n",
    "- Median\n",
    "- Mode\n",
    "- Variance\n",
    "- Standard Deviation"
   ]
  },
  {
   "cell_type": "markdown",
   "id": "0be8a1d7",
   "metadata": {
    "id": "0be8a1d7"
   },
   "source": [
    "## 🔹 Mean (Average)\n",
    "The **mean** is the sum of all values divided by the number of values."
   ]
  },
  {
   "cell_type": "code",
   "execution_count": 1,
   "id": "4975ef8c",
   "metadata": {
    "colab": {
     "base_uri": "https://localhost:8080/"
    },
    "id": "4975ef8c",
    "outputId": "ba661c09-da74-44c5-a3e8-de4a2151cc46"
   },
   "outputs": [
    {
     "data": {
      "text/plain": [
       "14.0"
      ]
     },
     "execution_count": 1,
     "metadata": {},
     "output_type": "execute_result"
    }
   ],
   "source": [
    "import numpy as np\n",
    "\n",
    "data = [10, 12, 14, 16, 18]\n",
    "mean_value = np.mean(data)\n",
    "mean_value"
   ]
  },
  {
   "cell_type": "markdown",
   "id": "1f1a74bb",
   "metadata": {
    "id": "1f1a74bb"
   },
   "source": [
    "### 🏠 Mean: Hometasks\n",
    "1. Calculate the mean for the dataset: `[55, 60, 65, 70, 75, 80]`\n",
    "2. A worker's weekly hours are: `[40, 42, 38, 41, 44]`. What is the mean weekly working time?\n",
    "3. Calculate the mean age of individuals: `[23, 29, 35, 41, 47, 53, 59]`"
   ]
  },
  {
   "cell_type": "code",
   "execution_count": 21,
   "id": "5_76lsIjPo36",
   "metadata": {
    "colab": {
     "base_uri": "https://localhost:8080/"
    },
    "id": "5_76lsIjPo36",
    "outputId": "47b1b070-8a49-430d-afe4-744e0fc64019"
   },
   "outputs": [
    {
     "name": "stdout",
     "output_type": "stream",
     "text": [
      "Mean Value is: 67.5\n"
     ]
    }
   ],
   "source": [
    "data=[55, 60, 65, 70, 75, 80]\n",
    "print(f\"Mean Value is: {(np.mean(data))}\")"
   ]
  },
  {
   "cell_type": "code",
   "execution_count": 22,
   "id": "C97bDARqP5H4",
   "metadata": {
    "colab": {
     "base_uri": "https://localhost:8080/"
    },
    "id": "C97bDARqP5H4",
    "outputId": "315322f5-6083-4b3a-cacc-9e3827cc24cf"
   },
   "outputs": [
    {
     "name": "stdout",
     "output_type": "stream",
     "text": [
      "Weekly working time mean is : 41.0\n"
     ]
    }
   ],
   "source": [
    "data1=[40, 42, 38, 41, 44]\n",
    "print(f\"Weekly working time mean is : {(np.mean(data1))}\")"
   ]
  },
  {
   "cell_type": "code",
   "execution_count": 23,
   "id": "cPCdnzI6QKEo",
   "metadata": {
    "colab": {
     "base_uri": "https://localhost:8080/"
    },
    "id": "cPCdnzI6QKEo",
    "outputId": "17d02af2-1933-4ac9-b013-26049253278e"
   },
   "outputs": [
    {
     "name": "stdout",
     "output_type": "stream",
     "text": [
      "Age of individuals mean is:  41.0\n"
     ]
    }
   ],
   "source": [
    "data2=[23, 29, 35, 41, 47, 53, 59]\n",
    "print(f\"Age of individuals mean is:  {(np.mean(data2))}\")"
   ]
  },
  {
   "cell_type": "markdown",
   "id": "f2c98c44",
   "metadata": {
    "id": "f2c98c44"
   },
   "source": [
    "## 🔹 Median\n",
    "The **median** is the middle value in an ordered dataset. If there is an even number of observations, the median is the average of the two middle values."
   ]
  },
  {
   "cell_type": "code",
   "execution_count": 24,
   "id": "86b665f5",
   "metadata": {
    "colab": {
     "base_uri": "https://localhost:8080/"
    },
    "id": "86b665f5",
    "outputId": "0c61a14e-acae-4e42-888d-69c64ef56724"
   },
   "outputs": [
    {
     "data": {
      "text/plain": [
       "35.0"
      ]
     },
     "execution_count": 24,
     "metadata": {},
     "output_type": "execute_result"
    }
   ],
   "source": [
    "data = [10, 20, 30, 40, 50, 60]\n",
    "median_value = np.median(data)\n",
    "median_value"
   ]
  },
  {
   "cell_type": "markdown",
   "id": "05f09db0",
   "metadata": {
    "id": "05f09db0"
   },
   "source": [
    "### 🏠 Median: Hometasks\n",
    "1. Find the median of: `[12, 15, 14, 11, 13]`\n",
    "2. Find the median income for: `[1200, 1500, 1300, 1100, 1600, 1700]`\n",
    "3. Given house prices: `[100000, 150000, 200000, 250000, 300000, 350000, 400000]`, calculate the median."
   ]
  },
  {
   "cell_type": "code",
   "execution_count": 29,
   "id": "ptrGA1cTQbOd",
   "metadata": {
    "colab": {
     "base_uri": "https://localhost:8080/"
    },
    "id": "ptrGA1cTQbOd",
    "outputId": "80c015df-411b-4b4f-c519-f746f0929370"
   },
   "outputs": [
    {
     "name": "stdout",
     "output_type": "stream",
     "text": [
      "Median is:  13.0\n"
     ]
    }
   ],
   "source": [
    "data3=[12, 15, 14, 11, 13]\n",
    "print(f\"Median is:  {(np.median(data3))}\")"
   ]
  },
  {
   "cell_type": "code",
   "execution_count": 32,
   "id": "1Vv9lOP2QtW4",
   "metadata": {
    "colab": {
     "base_uri": "https://localhost:8080/"
    },
    "id": "1Vv9lOP2QtW4",
    "outputId": "322b5c86-f398-4e31-db85-0739fe65a56f"
   },
   "outputs": [
    {
     "name": "stdout",
     "output_type": "stream",
     "text": [
      "Median for income is:   1400.0\n"
     ]
    }
   ],
   "source": [
    "data4=[1200, 1500, 1300, 1100, 1600, 1700]\n",
    "print(f\"Median for income is:   {np.median(data4)}\")"
   ]
  },
  {
   "cell_type": "code",
   "execution_count": 34,
   "id": "xYMr4f4DQtKP",
   "metadata": {
    "colab": {
     "base_uri": "https://localhost:8080/"
    },
    "id": "xYMr4f4DQtKP",
    "outputId": "430746fa-fb5a-404c-b5e2-e160b2f71751"
   },
   "outputs": [
    {
     "name": "stdout",
     "output_type": "stream",
     "text": [
      "House prices median is:  250000.0\n"
     ]
    }
   ],
   "source": [
    "data5=[100000, 150000, 200000, 250000, 300000, 350000, 400000]\n",
    "print(f\"House prices median is:  {np.median(data5)}\")"
   ]
  },
  {
   "cell_type": "markdown",
   "id": "064c8b4c",
   "metadata": {
    "id": "064c8b4c"
   },
   "source": [
    "## 🔹 Mode\n",
    "The **mode** is the value that appears most frequently in a dataset."
   ]
  },
  {
   "cell_type": "code",
   "execution_count": 35,
   "id": "ebe978ac",
   "metadata": {
    "colab": {
     "base_uri": "https://localhost:8080/"
    },
    "id": "ebe978ac",
    "outputId": "080492e2-a5b5-4015-d0a7-47ca50f5c667"
   },
   "outputs": [
    {
     "data": {
      "text/plain": [
       "4"
      ]
     },
     "execution_count": 35,
     "metadata": {},
     "output_type": "execute_result"
    }
   ],
   "source": [
    "import statistics as stats\n",
    "data = [1, 2, 2, 3, 4, 4, 4, 5]\n",
    "mode_value = stats.mode(data)\n",
    "mode_value"
   ]
  },
  {
   "cell_type": "markdown",
   "id": "e3653314",
   "metadata": {
    "id": "e3653314"
   },
   "source": [
    "### 🏠 Mode: Hometasks\n",
    "1. Find the mode of `[5, 6, 7, 8, 8, 9, 10]`\n",
    "2. A class's test scores: `[45, 55, 65, 65, 75, 85, 95, 65]`. What is the mode?\n",
    "3. Determine the mode in household sizes: `[2, 3, 3, 4, 4, 4, 5, 6]`"
   ]
  },
  {
   "cell_type": "code",
   "execution_count": 44,
   "id": "pVfLebEfRnB7",
   "metadata": {
    "colab": {
     "base_uri": "https://localhost:8080/"
    },
    "id": "pVfLebEfRnB7",
    "outputId": "74b8bb93-84f0-44e1-baf5-a5c10a392075"
   },
   "outputs": [
    {
     "name": "stdout",
     "output_type": "stream",
     "text": [
      "Mode of the data is:   8\n"
     ]
    }
   ],
   "source": [
    "data6=[5, 6, 7, 8, 8, 9, 10]\n",
    "print(f\"Mode of the data is:   {stat.mode(data6)}\")"
   ]
  },
  {
   "cell_type": "code",
   "execution_count": 47,
   "id": "1HEdqydWRzRP",
   "metadata": {
    "colab": {
     "base_uri": "https://localhost:8080/"
    },
    "id": "1HEdqydWRzRP",
    "outputId": "00287ec8-56b0-4c4c-c4b3-3a21a192bae8"
   },
   "outputs": [
    {
     "name": "stdout",
     "output_type": "stream",
     "text": [
      "Test score's mean is:   65\n"
     ]
    }
   ],
   "source": [
    "data7=[45, 55, 65, 65, 75, 85, 95, 65]\n",
    "print(f\"Test score's mode is:   {stat.mode(data7)}\")"
   ]
  },
  {
   "cell_type": "code",
   "execution_count": 51,
   "id": "lf3YiB4nRzJy",
   "metadata": {
    "colab": {
     "base_uri": "https://localhost:8080/"
    },
    "id": "lf3YiB4nRzJy",
    "outputId": "3fe2d848-2965-41d8-909f-970ed893b7e4"
   },
   "outputs": [
    {
     "name": "stdout",
     "output_type": "stream",
     "text": [
      "Mode of the household sizes is:   4\n"
     ]
    }
   ],
   "source": [
    "data8=[2, 3, 3, 4, 4, 4, 5, 6]\n",
    "print(f\"Mode of the household sizes is:   {stat.mode(data8)}\")"
   ]
  },
  {
   "cell_type": "markdown",
   "id": "6dcdef06",
   "metadata": {
    "id": "6dcdef06"
   },
   "source": [
    "## 🔹 Variance\n",
    "The **variance** measures the spread of the numbers in a dataset. A higher variance means more variability."
   ]
  },
  {
   "cell_type": "code",
   "execution_count": 53,
   "id": "3b657040",
   "metadata": {
    "colab": {
     "base_uri": "https://localhost:8080/"
    },
    "id": "3b657040",
    "outputId": "d1a805c9-0562-4922-ae81-519546ba0752"
   },
   "outputs": [
    {
     "data": {
      "text/plain": [
       "62.5"
      ]
     },
     "execution_count": 53,
     "metadata": {},
     "output_type": "execute_result"
    }
   ],
   "source": [
    "data = [5, 10, 15, 20, 25]\n",
    "variance_value = np.var(data, ddof=1)  # Sample variance\n",
    "variance_value"
   ]
  },
  {
   "cell_type": "markdown",
   "id": "797ee499",
   "metadata": {
    "id": "797ee499"
   },
   "source": [
    "### 🏠 Variance: Hometasks\n",
    "1. Find the variance of `[2, 4, 6, 8, 10]`\n",
    "2. Calculate the variance for population: `[100, 150, 200, 250, 300]`\n",
    "3. Compute the sample variance for exam scores: `[78, 82, 85, 90, 94]`"
   ]
  },
  {
   "cell_type": "code",
   "execution_count": 57,
   "id": "Dhvb1tPOStBC",
   "metadata": {
    "colab": {
     "base_uri": "https://localhost:8080/"
    },
    "id": "Dhvb1tPOStBC",
    "outputId": "64c4cf26-98ae-4bfa-f8ae-1fc2f33cc2c9"
   },
   "outputs": [
    {
     "name": "stdout",
     "output_type": "stream",
     "text": [
      "Variace of the data is:  10.0\n"
     ]
    }
   ],
   "source": [
    "data9=[2, 4, 6, 8, 10]\n",
    "print(f\"Variace of the data is:  {np.var(data9,ddof=1)}\")"
   ]
  },
  {
   "cell_type": "code",
   "execution_count": 59,
   "id": "9fph8VgPTGWY",
   "metadata": {
    "colab": {
     "base_uri": "https://localhost:8080/"
    },
    "id": "9fph8VgPTGWY",
    "outputId": "dc3227e6-9dae-4147-f8e2-449f910e9ec8"
   },
   "outputs": [
    {
     "name": "stdout",
     "output_type": "stream",
     "text": [
      "Variance of the population is:   5000.0\n"
     ]
    }
   ],
   "source": [
    "data10=[100, 150, 200, 250, 300]\n",
    "print(f\"Variance of the population is:   {np.var(data10,ddof=0)}\")"
   ]
  },
  {
   "cell_type": "code",
   "execution_count": 61,
   "id": "9iJ8QBpyTQS4",
   "metadata": {
    "colab": {
     "base_uri": "https://localhost:8080/"
    },
    "id": "9iJ8QBpyTQS4",
    "outputId": "3c29427c-c6f5-4cb5-ce61-2d2be810dea0"
   },
   "outputs": [
    {
     "name": "stdout",
     "output_type": "stream",
     "text": [
      "Variance of the exam scores is:   40.2\n"
     ]
    }
   ],
   "source": [
    "data11=[78, 82, 85, 90, 94]\n",
    "print(f\"Variance of the exam scores is:   {np.var(data11,ddof=1)}\")"
   ]
  },
  {
   "cell_type": "markdown",
   "id": "dcb9ac79",
   "metadata": {
    "id": "dcb9ac79"
   },
   "source": [
    "## 🔹 Standard Deviation\n",
    "**Standard deviation** is the square root of the variance. It also shows the spread of data."
   ]
  },
  {
   "cell_type": "code",
   "execution_count": 62,
   "id": "7bc81fb8",
   "metadata": {
    "colab": {
     "base_uri": "https://localhost:8080/"
    },
    "id": "7bc81fb8",
    "outputId": "c2d3b098-15d3-47a4-f4d0-8154aa051a2a"
   },
   "outputs": [
    {
     "data": {
      "text/plain": [
       "7.905694150420948"
      ]
     },
     "execution_count": 62,
     "metadata": {},
     "output_type": "execute_result"
    }
   ],
   "source": [
    "std_dev = np.std(data, ddof=1)\n",
    "std_dev"
   ]
  },
  {
   "cell_type": "markdown",
   "id": "15ea40e0",
   "metadata": {
    "id": "15ea40e0"
   },
   "source": [
    "### 🏠 Standard Deviation: Hometasks\n",
    "1. Calculate the standard deviation of: `[10, 12, 14, 16, 18]`\n",
    "2. What is the standard deviation for population sizes: `[1000, 1050, 1100, 1150, 1200]`?\n",
    "3. Find the sample standard deviation for: `[30, 35, 40, 45, 50]`"
   ]
  },
  {
   "cell_type": "code",
   "execution_count": 64,
   "id": "JIxI5EmUToXR",
   "metadata": {
    "colab": {
     "base_uri": "https://localhost:8080/"
    },
    "id": "JIxI5EmUToXR",
    "outputId": "861d264a-5ecb-4c2c-c7d3-41c076519caa"
   },
   "outputs": [
    {
     "name": "stdout",
     "output_type": "stream",
     "text": [
      " Standard deviation of the data is:   7.905694150420948\n"
     ]
    }
   ],
   "source": [
    "data12=[10, 12, 14, 16, 18]\n",
    "print(f\" Standard deviation of the data is:   {np.std(data,ddof=1)}\")"
   ]
  },
  {
   "cell_type": "code",
   "execution_count": 66,
   "id": "RFlGQxnRToQc",
   "metadata": {
    "colab": {
     "base_uri": "https://localhost:8080/"
    },
    "id": "RFlGQxnRToQc",
    "outputId": "c9bc8343-701e-43c1-aa2c-7ef0a9cf5423"
   },
   "outputs": [
    {
     "name": "stdout",
     "output_type": "stream",
     "text": [
      "Standard deviation of population is:    70.71067811865476\n"
     ]
    }
   ],
   "source": [
    "data13=[1000, 1050, 1100, 1150, 1200]\n",
    "print(f\"Standard deviation of population is:    {np.std(data13,ddof=0)}\")"
   ]
  },
  {
   "cell_type": "code",
   "execution_count": 68,
   "id": "W9AS8VbMToJB",
   "metadata": {
    "colab": {
     "base_uri": "https://localhost:8080/"
    },
    "id": "W9AS8VbMToJB",
    "outputId": "f729b327-d5ea-4dbe-d906-5823d86c9f29"
   },
   "outputs": [
    {
     "name": "stdout",
     "output_type": "stream",
     "text": [
      "Standard deviation of the sample is:    7.905694150420948\n"
     ]
    }
   ],
   "source": [
    "data14=[30, 35, 40, 45, 50]\n",
    "print(f\"Standard deviation of the sample is:    {np.std(data14,ddof=1)}\")"
   ]
  }
 ],
 "metadata": {
  "colab": {
   "provenance": []
  },
  "kernelspec": {
   "display_name": "Python 3 (ipykernel)",
   "language": "python",
   "name": "python3"
  },
  "language_info": {
   "codemirror_mode": {
    "name": "ipython",
    "version": 3
   },
   "file_extension": ".py",
   "mimetype": "text/x-python",
   "name": "python",
   "nbconvert_exporter": "python",
   "pygments_lexer": "ipython3",
   "version": "3.11.4"
  },
  "varInspector": {
   "cols": {
    "lenName": 16,
    "lenType": 16,
    "lenVar": 40
   },
   "kernels_config": {
    "python": {
     "delete_cmd_postfix": "",
     "delete_cmd_prefix": "del ",
     "library": "var_list.py",
     "varRefreshCmd": "print(var_dic_list())"
    },
    "r": {
     "delete_cmd_postfix": ") ",
     "delete_cmd_prefix": "rm(",
     "library": "var_list.r",
     "varRefreshCmd": "cat(var_dic_list()) "
    }
   },
   "types_to_exclude": [
    "module",
    "function",
    "builtin_function_or_method",
    "instance",
    "_Feature"
   ],
   "window_display": false
  }
 },
 "nbformat": 4,
 "nbformat_minor": 5
}
